{
 "cells": [
  {
   "cell_type": "markdown",
   "metadata": {},
   "source": [
    "# Technical Test : Data scientist position\n",
    "\n",
    "\n",
    "> Company : ORIS Materials Intelligence\n",
    "\n",
    "> Author : Laassairi Abdellah.\n",
    "\n",
    "**Context** : Geolocating & classifying data is crucial for various use cases. However the quality of the obtained data is not always optimal (Missing values, corrupt data, incorrect formats, etc). \n",
    "In this use case there are several locations associated with the keyword \"Quarry\" have been gathered in specific regions of the world in order to extract \"Quarry\" Construction sites. \n",
    "\n",
    "The issue is that some of those locations actually correspond to quarry construction sites, while others don't.\n",
    "\n",
    "**Quarry definition** : A quarry construction site is a location where various raw materials, such as rocks, sand, or minerals, are extracted from the earth. This process typically involves drilling, blasting, and digging to remove the desired materials. The extracted resources are then processed on-site or transported to other facilities for further refinement. Quarries are essential to the construction industry, as they provide many of the foundational materials used in building roads, bridges, and buildings. The following image portrays a satellite point of view of a quarry.\n",
    "\n",
    "![Example of satellite image of a quarry](assets/quarry.png)\n",
    "\n",
    "\n",
    "## Examples of location by keyword \"quarry\" :\n",
    "\n",
    "\n",
    "\n",
    "### Case 1 : \n",
    "\n",
    "\n",
    "| Site Name           | Site Type | Link                                                                                     | Latitude           | Longitude          |\n",
    "|----------------------|-----------|------------------------------------------------------------------------------------------|---------------------|---------------------|\n",
    "| Carrières du Boulonnais | Quarry    | [Carrières du Boulonnais](https://www.google.com/maps/place/Carri%C3%A8res+du+Boulonnais/@49.0531442,2.0276329,331m/data=!3m2!1e3!5s0x47e6f49b4e05ae93:0xc46352932f2fbfc2!4m14!1m7!3m6!1s0x47e6f49adf59f159:0x701db0cd3a147c5c!2sCarri%C3%A8res+du+Boulonnais!8m2!3d49.0532764!4d2.0288159!16s%2Fg%2F1hc193bwm!3m5!1s0x47e6f49adf59f159:0x701db0cd3a147c5c!8m2!3d49.0532764!4d2.0288159!16s%2Fg%2F1hc193bwm?entry=ttu) | 49.05331119157828 | 2.028759427785821 |\n",
    "\n",
    "\n",
    "![Case 1 satellite image ](assets/case1.png)\n",
    "\n",
    "```{note}\n",
    "In this case the corresponding site_type is incorrect, this is not a construction site quarry. \n",
    "``` \n",
    "\n",
    "### Case 2 : \n",
    "\n",
    "| Site Name     | Link                                                                     | Site Type | Latitude           | Longitude          |\n",
    "|---------------|----------------------------------------------------------------------------|---------------------|---------------------|---------------------|\n",
    "| Round O Quarry| [Round O Quarry](https://www.google.com/maps/place/Round+O+Quarry/@53.5741128,-2.8186288,9328m/data=!3m1!1e3!4m6!3m5!1s0x487b10df0df9ad11:0x81da97a6a16e412d!8m2!3d53.5729758!4d-2.7800412!16s%2Fg%2F11df0xnfmd?entry=ttu) | Quarry             | 53.57446955180785  | -2.778803360562217 |\n",
    "\n",
    "![Case 2 satellite image ](assets/case2.png)\n",
    "\n",
    "\n",
    "```{note}\n",
    "In this case the corresponding site_type is incorrect, this is not a construction site quarry. \n",
    "``` \n",
    "\n",
    "### Case 3: \n",
    "\n",
    "\n",
    "| Site Name     | Site Type   | Link                                                                                                     | Latitude        | Longitude       |\n",
    "|---------------|-------------|----------------------------------------------------------------------------------------------------------|-----------------|-----------------|\n",
    "| Cliff Hill Quarry | Quarry | [Cliffe Hill Quarry](https://www.google.com/maps/place/Cliffe+Hill+Quarry/@52.6935844,-1.3451508,2380m/data=!3m1!1e3!4m10!1m2!2m1!1squarry!3m6!1s0x487758822e8b9d0d:0x7f89d9a435c58f2d!8m2!3d52.6935844!4d-1.3331222!15sCgZxdWFycnmSAQZxdWFycnngAQA!16s%2Fg%2F11bwh58dt7?entry=ttu) | 52.69401356326485 | -1.333048672929467 |\n",
    "\n",
    "\n",
    "\n",
    "![Case 3 ](assets/case3.png)\n",
    "```{note}\n",
    "In this case the corresponding site_type is correct, this is a construction site quarry. \n",
    "``` \n",
    "\n",
    "## Objective : \n",
    "\n",
    "The objective is classify each site into \"Quarry\" : 1, \"Not a quarry\" : 0.\n",
    "\n",
    "### Dataset Description\n",
    "Data Source : `X_train.csv` & `X_test.csv`\n",
    "\n",
    "This dataset contains information about various companies and their respective sites. The details provided span from basic contact information to geographical coordinates and site types.\n",
    "\n",
    "### Column Descriptions\n",
    "\n",
    "\n",
    "1. **site_name**: The name of the specific site or location belonging to the company.\n",
    "2. **company_name**: The name of the company that owns or operates the site.\n",
    "3. **link**: A direct link to the company's or site's webpage for more information.\n",
    "4. **latitude**: The latitudinal coordinate of the site's location.\n",
    "5. **longitude**: The longitudinal coordinate of the site's location.\n",
    "6. **address**: The complete postal address of the site.\n",
    "7. **homepage**: The URL of the company's main homepage.\n",
    "8. **phone**: The general contact phone number for the company or site.\n",
    "9. **sales_phone**: A specific phone number for sales inquiries related to the company or site.\n",
    "10. **email**: The general email address for contacting the company or site.\n",
    "11. **sales_email**: A specific email address for sales inquiries related to the company or site.\n",
    "12. **opening_hours**: The operating or business hours of the site.\n",
    "13. **site_type**: The type or classification of the site from the  website.\n",
    "14. **id** : The id of the specified site.\n",
    "15. **image_path**: The path to the corresponding satellite image of the specified site.\n",
    "\n",
    "\n",
    "## Target Description\n",
    "\n",
    "Data Source : `Y_train.csv`\n",
    "\n",
    "1. **correct_site_type**: The correct site type."
   ]
  },
  {
   "cell_type": "markdown",
   "metadata": {},
   "source": [
    "## Data preparation and modules"
   ]
  },
  {
   "cell_type": "code",
   "execution_count": 3,
   "metadata": {},
   "outputs": [],
   "source": [
    "import pandas as pd\n",
    "\n",
    "X_train = pd.read_csv(\"data/X_train.csv\")\n",
    "Y_train  = pd.read_csv(\"data/Y_train.csv\")\n",
    "\n",
    "X_test = pd.read_csv(\"data/X_test.csv\")\n",
    "\n"
   ]
  },
  {
   "cell_type": "markdown",
   "metadata": {},
   "source": [
    "\n",
    "## Instructions & Constraints : \n",
    "\n",
    "### Delivrable : \n",
    "\n",
    "- Github repository of the solution\n",
    "- Submission file : `Y_test.csv` \n",
    "\n",
    "Note : Example of submission is available in `data/Y_test_example.csv`\n",
    "\n"
   ]
  },
  {
   "cell_type": "code",
   "execution_count": 21,
   "metadata": {},
   "outputs": [
    {
     "name": "stdout",
     "output_type": "stream",
     "text": [
      "The accuracy of the binary classification model is: 100.00%\n"
     ]
    }
   ],
   "source": [
    "from sklearn.metrics import accuracy_score\n",
    "\n",
    "Y_test_example = pd.read_csv(\"data/Submission_example.csv\")\n",
    "\n",
    "accuracy = accuracy_score(Y_test_example.values, Y_test_example.values)\n",
    "\n",
    "print(f'The accuracy of the binary classification model is: {accuracy * 100:.2f}%')"
   ]
  },
  {
   "cell_type": "markdown",
   "metadata": {},
   "source": [
    "\n",
    "### Instructions :\n",
    "The final submission file would be evaluated using the classical binary accuracy. Candidates are required to showcase their methodology in a github repository. We give as much importance to the utilized methodology & theoritical layout of the solution as to the final obtained score. The objective of the test is to evaluate a candidate's capability to convert a real world challenge into a concrete technical solution, and their data science driven problem solving skills.  \n",
    "\n",
    "Candidates can also give conceptual ideas & possible additional solutions / improvements without implementing all of them.\n",
    "\n",
    "### Constraint : \n",
    "The only constraint that candidates should keep in mind when developing their solution is **inference time** & **cost** as the solution is supposed to be deployed at large scale. "
   ]
  }
 ],
 "metadata": {
  "kernelspec": {
   "display_name": "mlroad",
   "language": "python",
   "name": "python3"
  },
  "language_info": {
   "codemirror_mode": {
    "name": "ipython",
    "version": 3
   },
   "file_extension": ".py",
   "mimetype": "text/x-python",
   "name": "python",
   "nbconvert_exporter": "python",
   "pygments_lexer": "ipython3",
   "version": "3.8.18"
  }
 },
 "nbformat": 4,
 "nbformat_minor": 2
}
